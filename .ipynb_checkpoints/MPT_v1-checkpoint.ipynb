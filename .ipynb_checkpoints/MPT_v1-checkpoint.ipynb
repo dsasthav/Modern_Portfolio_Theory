{
 "cells": [
  {
   "cell_type": "markdown",
   "metadata": {},
   "source": [
    "# Modern Portfolio Theory (Part 1)"
   ]
  },
  {
   "cell_type": "markdown",
   "metadata": {},
   "source": [
    "This notebook is my attempt to learn Modern Portfolio Theory using some hands on examples. Part 1 will be following along with some articles I found on Medium. All credit to: https://medium.com/python-data/effient-frontier-in-python-34b0c3043314"
   ]
  },
  {
   "cell_type": "code",
   "execution_count": 1,
   "metadata": {},
   "outputs": [
    {
     "name": "stdout",
     "output_type": "stream",
     "text": [
      "Libraries Imported Successfully\n"
     ]
    }
   ],
   "source": [
    "import pandas as pd\n",
    "import numpy as np\n",
    "import matplotlib.pyplot as plt\n",
    "import datetime\n",
    "import quandl\n",
    "\n",
    "print(\"Libraries Imported Successfully\")"
   ]
  },
  {
   "cell_type": "code",
   "execution_count": 2,
   "metadata": {
    "collapsed": true
   },
   "outputs": [],
   "source": [
    "# configure the API key\n",
    "quandl.ApiConfig.api_key = '9SK9WkGsRvrev2s5ocPH'"
   ]
  },
  {
   "cell_type": "code",
   "execution_count": 3,
   "metadata": {},
   "outputs": [],
   "source": [
    "# Define the stock symbols and date range for analysis\n",
    "tickers = ['XOM', 'TSLA', 'GOOG', 'GE', 'WMT']\n",
    "start_date = datetime.datetime(2014,1,1)\n",
    "end_date = datetime.datetime(2017,12,31)\n"
   ]
  },
  {
   "cell_type": "code",
   "execution_count": 4,
   "metadata": {},
   "outputs": [
    {
     "data": {
      "text/html": [
       "<div>\n",
       "<style>\n",
       "    .dataframe thead tr:only-child th {\n",
       "        text-align: right;\n",
       "    }\n",
       "\n",
       "    .dataframe thead th {\n",
       "        text-align: left;\n",
       "    }\n",
       "\n",
       "    .dataframe tbody tr th {\n",
       "        vertical-align: top;\n",
       "    }\n",
       "</style>\n",
       "<table border=\"1\" class=\"dataframe\">\n",
       "  <thead>\n",
       "    <tr style=\"text-align: right;\">\n",
       "      <th></th>\n",
       "      <th>date</th>\n",
       "      <th>ticker</th>\n",
       "      <th>adj_close</th>\n",
       "    </tr>\n",
       "    <tr>\n",
       "      <th>None</th>\n",
       "      <th></th>\n",
       "      <th></th>\n",
       "      <th></th>\n",
       "    </tr>\n",
       "  </thead>\n",
       "  <tbody>\n",
       "    <tr>\n",
       "      <th>0</th>\n",
       "      <td>2014-01-02</td>\n",
       "      <td>GE</td>\n",
       "      <td>24.266002</td>\n",
       "    </tr>\n",
       "    <tr>\n",
       "      <th>1</th>\n",
       "      <td>2014-01-03</td>\n",
       "      <td>GE</td>\n",
       "      <td>24.248354</td>\n",
       "    </tr>\n",
       "    <tr>\n",
       "      <th>2</th>\n",
       "      <td>2014-01-06</td>\n",
       "      <td>GE</td>\n",
       "      <td>24.054226</td>\n",
       "    </tr>\n",
       "    <tr>\n",
       "      <th>3</th>\n",
       "      <td>2014-01-07</td>\n",
       "      <td>GE</td>\n",
       "      <td>24.080698</td>\n",
       "    </tr>\n",
       "    <tr>\n",
       "      <th>4</th>\n",
       "      <td>2014-01-08</td>\n",
       "      <td>GE</td>\n",
       "      <td>24.010106</td>\n",
       "    </tr>\n",
       "  </tbody>\n",
       "</table>\n",
       "</div>"
      ],
      "text/plain": [
       "           date ticker  adj_close\n",
       "None                             \n",
       "0    2014-01-02     GE  24.266002\n",
       "1    2014-01-03     GE  24.248354\n",
       "2    2014-01-06     GE  24.054226\n",
       "3    2014-01-07     GE  24.080698\n",
       "4    2014-01-08     GE  24.010106"
      ]
     },
     "execution_count": 4,
     "metadata": {},
     "output_type": "execute_result"
    }
   ],
   "source": [
    "# Pull data using Quandl API\n",
    "data = quandl.get_table('WIKI/PRICES', ticker = tickers,\n",
    "                        qopts = { 'columns': ['date', 'ticker', 'adj_close'] },\n",
    "                        date = { 'gte': start_date, 'lte': end_date }, paginate=True)\n",
    "\n",
    "# Print the first few rows\n",
    "data.head()"
   ]
  },
  {
   "cell_type": "code",
   "execution_count": 5,
   "metadata": {},
   "outputs": [
    {
     "data": {
      "text/html": [
       "<div>\n",
       "<style>\n",
       "    .dataframe thead tr:only-child th {\n",
       "        text-align: right;\n",
       "    }\n",
       "\n",
       "    .dataframe thead th {\n",
       "        text-align: left;\n",
       "    }\n",
       "\n",
       "    .dataframe tbody tr th {\n",
       "        vertical-align: top;\n",
       "    }\n",
       "</style>\n",
       "<table border=\"1\" class=\"dataframe\">\n",
       "  <thead>\n",
       "    <tr>\n",
       "      <th></th>\n",
       "      <th colspan=\"5\" halign=\"left\">adj_close</th>\n",
       "    </tr>\n",
       "    <tr>\n",
       "      <th>ticker</th>\n",
       "      <th>GE</th>\n",
       "      <th>GOOG</th>\n",
       "      <th>TSLA</th>\n",
       "      <th>WMT</th>\n",
       "      <th>XOM</th>\n",
       "    </tr>\n",
       "    <tr>\n",
       "      <th>date</th>\n",
       "      <th></th>\n",
       "      <th></th>\n",
       "      <th></th>\n",
       "      <th></th>\n",
       "      <th></th>\n",
       "    </tr>\n",
       "  </thead>\n",
       "  <tbody>\n",
       "    <tr>\n",
       "      <th>2014-01-02</th>\n",
       "      <td>24.266002</td>\n",
       "      <td>NaN</td>\n",
       "      <td>150.10</td>\n",
       "      <td>71.343743</td>\n",
       "      <td>87.233752</td>\n",
       "    </tr>\n",
       "    <tr>\n",
       "      <th>2014-01-03</th>\n",
       "      <td>24.248354</td>\n",
       "      <td>NaN</td>\n",
       "      <td>149.56</td>\n",
       "      <td>71.108673</td>\n",
       "      <td>87.023866</td>\n",
       "    </tr>\n",
       "    <tr>\n",
       "      <th>2014-01-06</th>\n",
       "      <td>24.054226</td>\n",
       "      <td>NaN</td>\n",
       "      <td>147.00</td>\n",
       "      <td>70.710863</td>\n",
       "      <td>87.155044</td>\n",
       "    </tr>\n",
       "    <tr>\n",
       "      <th>2014-01-07</th>\n",
       "      <td>24.080698</td>\n",
       "      <td>NaN</td>\n",
       "      <td>149.36</td>\n",
       "      <td>70.927850</td>\n",
       "      <td>88.388123</td>\n",
       "    </tr>\n",
       "    <tr>\n",
       "      <th>2014-01-08</th>\n",
       "      <td>24.010106</td>\n",
       "      <td>NaN</td>\n",
       "      <td>151.28</td>\n",
       "      <td>70.367299</td>\n",
       "      <td>88.099530</td>\n",
       "    </tr>\n",
       "  </tbody>\n",
       "</table>\n",
       "</div>"
      ],
      "text/plain": [
       "            adj_close                                   \n",
       "ticker             GE GOOG    TSLA        WMT        XOM\n",
       "date                                                    \n",
       "2014-01-02  24.266002  NaN  150.10  71.343743  87.233752\n",
       "2014-01-03  24.248354  NaN  149.56  71.108673  87.023866\n",
       "2014-01-06  24.054226  NaN  147.00  70.710863  87.155044\n",
       "2014-01-07  24.080698  NaN  149.36  70.927850  88.388123\n",
       "2014-01-08  24.010106  NaN  151.28  70.367299  88.099530"
      ]
     },
     "execution_count": 5,
     "metadata": {},
     "output_type": "execute_result"
    }
   ],
   "source": [
    "# reorganise data pulled by setting date as index with\n",
    "# columns of tickers and their corresponding adjusted prices\n",
    "clean = data.set_index('date')\n",
    "table = clean.pivot(columns='ticker')\n",
    "table.head()"
   ]
  },
  {
   "cell_type": "code",
   "execution_count": 6,
   "metadata": {},
   "outputs": [
    {
     "name": "stdout",
     "output_type": "stream",
     "text": [
      "           ticker\n",
      "adj_close  GE       -0.064448\n",
      "           GOOG      0.189804\n",
      "           TSLA      0.263059\n",
      "           WMT       0.097116\n",
      "           XOM       0.005237\n",
      "dtype: float64\n"
     ]
    }
   ],
   "source": [
    "# calculate daily and annual returns of the stocks\n",
    "returns_daily = table.pct_change()\n",
    "returns_annual = returns_daily.mean() * 250\n",
    "\n",
    "print(returns_annual)"
   ]
  },
  {
   "cell_type": "code",
   "execution_count": 7,
   "metadata": {},
   "outputs": [
    {
     "data": {
      "text/html": [
       "<div>\n",
       "<style>\n",
       "    .dataframe thead tr:only-child th {\n",
       "        text-align: right;\n",
       "    }\n",
       "\n",
       "    .dataframe thead th {\n",
       "        text-align: left;\n",
       "    }\n",
       "\n",
       "    .dataframe tbody tr th {\n",
       "        vertical-align: top;\n",
       "    }\n",
       "</style>\n",
       "<table border=\"1\" class=\"dataframe\">\n",
       "  <thead>\n",
       "    <tr>\n",
       "      <th></th>\n",
       "      <th></th>\n",
       "      <th colspan=\"5\" halign=\"left\">adj_close</th>\n",
       "    </tr>\n",
       "    <tr>\n",
       "      <th></th>\n",
       "      <th>ticker</th>\n",
       "      <th>GE</th>\n",
       "      <th>GOOG</th>\n",
       "      <th>TSLA</th>\n",
       "      <th>WMT</th>\n",
       "      <th>XOM</th>\n",
       "    </tr>\n",
       "    <tr>\n",
       "      <th></th>\n",
       "      <th>ticker</th>\n",
       "      <th></th>\n",
       "      <th></th>\n",
       "      <th></th>\n",
       "      <th></th>\n",
       "      <th></th>\n",
       "    </tr>\n",
       "  </thead>\n",
       "  <tbody>\n",
       "    <tr>\n",
       "      <th rowspan=\"5\" valign=\"top\">adj_close</th>\n",
       "      <th>GE</th>\n",
       "      <td>0.000141</td>\n",
       "      <td>0.000050</td>\n",
       "      <td>0.000071</td>\n",
       "      <td>0.000032</td>\n",
       "      <td>0.000059</td>\n",
       "    </tr>\n",
       "    <tr>\n",
       "      <th>GOOG</th>\n",
       "      <td>0.000050</td>\n",
       "      <td>0.000195</td>\n",
       "      <td>0.000108</td>\n",
       "      <td>0.000032</td>\n",
       "      <td>0.000041</td>\n",
       "    </tr>\n",
       "    <tr>\n",
       "      <th>TSLA</th>\n",
       "      <td>0.000071</td>\n",
       "      <td>0.000108</td>\n",
       "      <td>0.000655</td>\n",
       "      <td>0.000040</td>\n",
       "      <td>0.000057</td>\n",
       "    </tr>\n",
       "    <tr>\n",
       "      <th>WMT</th>\n",
       "      <td>0.000032</td>\n",
       "      <td>0.000032</td>\n",
       "      <td>0.000040</td>\n",
       "      <td>0.000130</td>\n",
       "      <td>0.000026</td>\n",
       "    </tr>\n",
       "    <tr>\n",
       "      <th>XOM</th>\n",
       "      <td>0.000059</td>\n",
       "      <td>0.000041</td>\n",
       "      <td>0.000057</td>\n",
       "      <td>0.000026</td>\n",
       "      <td>0.000126</td>\n",
       "    </tr>\n",
       "  </tbody>\n",
       "</table>\n",
       "</div>"
      ],
      "text/plain": [
       "                 adj_close                                        \n",
       "ticker                  GE      GOOG      TSLA       WMT       XOM\n",
       "          ticker                                                  \n",
       "adj_close GE      0.000141  0.000050  0.000071  0.000032  0.000059\n",
       "          GOOG    0.000050  0.000195  0.000108  0.000032  0.000041\n",
       "          TSLA    0.000071  0.000108  0.000655  0.000040  0.000057\n",
       "          WMT     0.000032  0.000032  0.000040  0.000130  0.000026\n",
       "          XOM     0.000059  0.000041  0.000057  0.000026  0.000126"
      ]
     },
     "execution_count": 7,
     "metadata": {},
     "output_type": "execute_result"
    }
   ],
   "source": [
    "# get daily and covariance of returns of the stock\n",
    "cov_daily = returns_daily.cov()\n",
    "cov_annual = cov_daily * 250\n",
    "\n",
    "cov_daily"
   ]
  },
  {
   "cell_type": "code",
   "execution_count": 8,
   "metadata": {
    "collapsed": true
   },
   "outputs": [],
   "source": [
    "# empty lists to store returns, volatility and weights of imiginary portfolios\n",
    "port_returns = []\n",
    "port_volatility = []\n",
    "stock_weights = []\n",
    "\n",
    "# set the number of combinations for imaginary portfolios\n",
    "num_assets = len(tickers)\n",
    "num_portfolios = 50000"
   ]
  },
  {
   "cell_type": "code",
   "execution_count": 9,
   "metadata": {
    "collapsed": true
   },
   "outputs": [],
   "source": [
    "# populate the empty lists with each portfolios returns,risk and weights\n",
    "for single_portfolio in range(num_portfolios):\n",
    "    weights = np.random.random(num_assets) # initialize random weights\n",
    "    weights /= np.sum(weights) # normalize so sum of weights = 1\n",
    "    returns = np.dot(weights, returns_annual) # compute expected return for sample portfolio\n",
    "    volatility = np.sqrt(np.dot(weights.T, np.dot(cov_annual, weights))) # compute volatility for sample portfolio\n",
    "    port_returns.append(returns)\n",
    "    port_volatility.append(volatility)\n",
    "    stock_weights.append(weights)"
   ]
  },
  {
   "cell_type": "code",
   "execution_count": 10,
   "metadata": {},
   "outputs": [],
   "source": [
    "# a dictionary for Returns and Risk values of each portfolio\n",
    "portfolio = {'Returns': port_returns,\n",
    "             'Volatility': port_volatility}\n",
    "\n",
    "# extend original dictionary to accomodate each ticker and weight in the portfolio\n",
    "for counter,symbol in enumerate(tickers):\n",
    "    portfolio[symbol+' Weight'] = [Weight[counter] for Weight in stock_weights]"
   ]
  },
  {
   "cell_type": "code",
   "execution_count": 11,
   "metadata": {},
   "outputs": [
    {
     "data": {
      "text/html": [
       "<div>\n",
       "<style>\n",
       "    .dataframe thead tr:only-child th {\n",
       "        text-align: right;\n",
       "    }\n",
       "\n",
       "    .dataframe thead th {\n",
       "        text-align: left;\n",
       "    }\n",
       "\n",
       "    .dataframe tbody tr th {\n",
       "        vertical-align: top;\n",
       "    }\n",
       "</style>\n",
       "<table border=\"1\" class=\"dataframe\">\n",
       "  <thead>\n",
       "    <tr style=\"text-align: right;\">\n",
       "      <th></th>\n",
       "      <th>Returns</th>\n",
       "      <th>Volatility</th>\n",
       "      <th>XOM Weight</th>\n",
       "      <th>TSLA Weight</th>\n",
       "      <th>GOOG Weight</th>\n",
       "      <th>GE Weight</th>\n",
       "      <th>WMT Weight</th>\n",
       "    </tr>\n",
       "  </thead>\n",
       "  <tbody>\n",
       "    <tr>\n",
       "      <th>0</th>\n",
       "      <td>0.020705</td>\n",
       "      <td>0.140691</td>\n",
       "      <td>0.416063</td>\n",
       "      <td>0.002076</td>\n",
       "      <td>0.099998</td>\n",
       "      <td>0.199136</td>\n",
       "      <td>0.282727</td>\n",
       "    </tr>\n",
       "    <tr>\n",
       "      <th>1</th>\n",
       "      <td>0.064776</td>\n",
       "      <td>0.144541</td>\n",
       "      <td>0.332403</td>\n",
       "      <td>0.147398</td>\n",
       "      <td>0.154220</td>\n",
       "      <td>0.171268</td>\n",
       "      <td>0.194711</td>\n",
       "    </tr>\n",
       "    <tr>\n",
       "      <th>2</th>\n",
       "      <td>0.159565</td>\n",
       "      <td>0.197584</td>\n",
       "      <td>0.131594</td>\n",
       "      <td>0.369770</td>\n",
       "      <td>0.339548</td>\n",
       "      <td>0.083894</td>\n",
       "      <td>0.075194</td>\n",
       "    </tr>\n",
       "    <tr>\n",
       "      <th>3</th>\n",
       "      <td>0.062458</td>\n",
       "      <td>0.139223</td>\n",
       "      <td>0.349564</td>\n",
       "      <td>0.098702</td>\n",
       "      <td>0.078770</td>\n",
       "      <td>0.468599</td>\n",
       "      <td>0.004366</td>\n",
       "    </tr>\n",
       "    <tr>\n",
       "      <th>4</th>\n",
       "      <td>0.122284</td>\n",
       "      <td>0.159970</td>\n",
       "      <td>0.155151</td>\n",
       "      <td>0.235044</td>\n",
       "      <td>0.236711</td>\n",
       "      <td>0.255210</td>\n",
       "      <td>0.117883</td>\n",
       "    </tr>\n",
       "  </tbody>\n",
       "</table>\n",
       "</div>"
      ],
      "text/plain": [
       "    Returns  Volatility  XOM Weight  TSLA Weight  GOOG Weight  GE Weight  \\\n",
       "0  0.020705    0.140691    0.416063     0.002076     0.099998   0.199136   \n",
       "1  0.064776    0.144541    0.332403     0.147398     0.154220   0.171268   \n",
       "2  0.159565    0.197584    0.131594     0.369770     0.339548   0.083894   \n",
       "3  0.062458    0.139223    0.349564     0.098702     0.078770   0.468599   \n",
       "4  0.122284    0.159970    0.155151     0.235044     0.236711   0.255210   \n",
       "\n",
       "   WMT Weight  \n",
       "0    0.282727  \n",
       "1    0.194711  \n",
       "2    0.075194  \n",
       "3    0.004366  \n",
       "4    0.117883  "
      ]
     },
     "execution_count": 11,
     "metadata": {},
     "output_type": "execute_result"
    }
   ],
   "source": [
    "# make a nice dataframe of the extended dictionary\n",
    "df = pd.DataFrame(portfolio)\n",
    "\n",
    "# get better labels for desired arrangement of columns\n",
    "column_order = ['Returns', 'Volatility'] + [stock+' Weight' for stock in tickers]\n",
    "\n",
    "# reorder dataframe columns\n",
    "df = df[column_order]\n",
    "\n",
    "df.head()"
   ]
  },
  {
   "cell_type": "code",
   "execution_count": 12,
   "metadata": {},
   "outputs": [
    {
     "data": {
      "image/png": "[encoded data removed]",
      "text/plain": [
       "<matplotlib.figure.Figure at 0x26ae77a5e80>"
      ]
     },
     "metadata": {},
     "output_type": "display_data"
    }
   ],
   "source": [
    "# plot the efficient frontier with a scatter plot\n",
    "plt.style.use('seaborn')\n",
    "df.plot.scatter(x='Volatility', y='Returns', figsize=(7, 5), grid=True)\n",
    "plt.xlabel('Volatility (Std. Deviation)')\n",
    "plt.ylabel('Expected Returns')\n",
    "plt.title('Efficient Frontier')\n",
    "plt.show()"
   ]
  },
  {
   "cell_type": "code",
   "execution_count": 13,
   "metadata": {},
   "outputs": [
    {
     "data": {
      "text/html": [
       "<div>\n",
       "<style>\n",
       "    .dataframe thead tr:only-child th {\n",
       "        text-align: right;\n",
       "    }\n",
       "\n",
       "    .dataframe thead th {\n",
       "        text-align: left;\n",
       "    }\n",
       "\n",
       "    .dataframe tbody tr th {\n",
       "        vertical-align: top;\n",
       "    }\n",
       "</style>\n",
       "<table border=\"1\" class=\"dataframe\">\n",
       "  <thead>\n",
       "    <tr style=\"text-align: right;\">\n",
       "      <th></th>\n",
       "      <th>Returns</th>\n",
       "      <th>Volatility</th>\n",
       "      <th>XOM Weight</th>\n",
       "      <th>TSLA Weight</th>\n",
       "      <th>GOOG Weight</th>\n",
       "      <th>GE Weight</th>\n",
       "      <th>WMT Weight</th>\n",
       "      <th>Sharpe</th>\n",
       "    </tr>\n",
       "  </thead>\n",
       "  <tbody>\n",
       "    <tr>\n",
       "      <th>0</th>\n",
       "      <td>0.020705</td>\n",
       "      <td>0.140691</td>\n",
       "      <td>0.416063</td>\n",
       "      <td>0.002076</td>\n",
       "      <td>0.099998</td>\n",
       "      <td>0.199136</td>\n",
       "      <td>0.282727</td>\n",
       "      <td>0.147167</td>\n",
       "    </tr>\n",
       "    <tr>\n",
       "      <th>1</th>\n",
       "      <td>0.064776</td>\n",
       "      <td>0.144541</td>\n",
       "      <td>0.332403</td>\n",
       "      <td>0.147398</td>\n",
       "      <td>0.154220</td>\n",
       "      <td>0.171268</td>\n",
       "      <td>0.194711</td>\n",
       "      <td>0.448147</td>\n",
       "    </tr>\n",
       "    <tr>\n",
       "      <th>2</th>\n",
       "      <td>0.159565</td>\n",
       "      <td>0.197584</td>\n",
       "      <td>0.131594</td>\n",
       "      <td>0.369770</td>\n",
       "      <td>0.339548</td>\n",
       "      <td>0.083894</td>\n",
       "      <td>0.075194</td>\n",
       "      <td>0.807581</td>\n",
       "    </tr>\n",
       "    <tr>\n",
       "      <th>3</th>\n",
       "      <td>0.062458</td>\n",
       "      <td>0.139223</td>\n",
       "      <td>0.349564</td>\n",
       "      <td>0.098702</td>\n",
       "      <td>0.078770</td>\n",
       "      <td>0.468599</td>\n",
       "      <td>0.004366</td>\n",
       "      <td>0.448617</td>\n",
       "    </tr>\n",
       "    <tr>\n",
       "      <th>4</th>\n",
       "      <td>0.122284</td>\n",
       "      <td>0.159970</td>\n",
       "      <td>0.155151</td>\n",
       "      <td>0.235044</td>\n",
       "      <td>0.236711</td>\n",
       "      <td>0.255210</td>\n",
       "      <td>0.117883</td>\n",
       "      <td>0.764423</td>\n",
       "    </tr>\n",
       "  </tbody>\n",
       "</table>\n",
       "</div>"
      ],
      "text/plain": [
       "    Returns  Volatility  XOM Weight  TSLA Weight  GOOG Weight  GE Weight  \\\n",
       "0  0.020705    0.140691    0.416063     0.002076     0.099998   0.199136   \n",
       "1  0.064776    0.144541    0.332403     0.147398     0.154220   0.171268   \n",
       "2  0.159565    0.197584    0.131594     0.369770     0.339548   0.083894   \n",
       "3  0.062458    0.139223    0.349564     0.098702     0.078770   0.468599   \n",
       "4  0.122284    0.159970    0.155151     0.235044     0.236711   0.255210   \n",
       "\n",
       "   WMT Weight    Sharpe  \n",
       "0    0.282727  0.147167  \n",
       "1    0.194711  0.448147  \n",
       "2    0.075194  0.807581  \n",
       "3    0.004366  0.448617  \n",
       "4    0.117883  0.764423  "
      ]
     },
     "execution_count": 13,
     "metadata": {},
     "output_type": "execute_result"
    }
   ],
   "source": [
    "# Calculate Sharpe Ratio\n",
    "# Assume risk free rate of return = 0 for simplicity\n",
    "\n",
    "df[\"Sharpe\"] = df[\"Returns\"] / df[\"Volatility\"]\n",
    "\n",
    "df.head()"
   ]
  },
  {
   "cell_type": "code",
   "execution_count": 14,
   "metadata": {},
   "outputs": [],
   "source": [
    "# Find the portfolio with the highest sharpe ratio\n",
    "highest_sharpe_index = df[\"Sharpe\"].idxmax()\n",
    "highest_sharpe_df = df.iloc[highest_sharpe_index,:]\n",
    "\n",
    "# find the portfolio with the minimum volatility\n",
    "lowest_vol_index = df[\"Volatility\"].idxmin()\n",
    "lowest_vol_df = df.iloc[lowest_vol_index,:]"
   ]
  },
  {
   "cell_type": "code",
   "execution_count": 15,
   "metadata": {},
   "outputs": [
    {
     "data": {
      "image/png": "[encoded data removed]",
      "text/plain": [
       "<matplotlib.figure.Figure at 0x26ae53345f8>"
      ]
     },
     "metadata": {},
     "output_type": "display_data"
    }
   ],
   "source": [
    "# plot the efficient frontier with a scatter plot\n",
    "plt.style.use('seaborn')\n",
    "\n",
    "# Add color code for Sharpe's ratio\n",
    "df.plot.scatter(x='Volatility', y='Returns', c='Sharpe',cmap='RdYlGn', figsize=(10, 8), grid=True)\n",
    "\n",
    "# Add points for lowest volatility and highest sharpe's ratio\n",
    "plt.scatter(highest_sharpe_df[\"Volatility\"],highest_sharpe_df[\"Returns\"],marker=(5,1,0),color='b',s=1000)\n",
    "plt.scatter(lowest_vol_df[\"Volatility\"],lowest_vol_df[\"Returns\"],marker=(5,1,0),color='r',s=1000)\n",
    "\n",
    "# Add titles and axis labels\n",
    "plt.xlabel('Volatility (Std. Deviation)')\n",
    "plt.ylabel('Expected Returns')\n",
    "plt.title('Efficient Frontier')\n",
    "\n",
    "plt.show()"
   ]
  },
  {
   "cell_type": "markdown",
   "metadata": {},
   "source": [
    "Since I am young and looking to optimize returns, it appears the optimal weight of the portfolio with these securities is:"
   ]
  },
  {
   "cell_type": "code",
   "execution_count": 16,
   "metadata": {},
   "outputs": [
    {
     "name": "stdout",
     "output_type": "stream",
     "text": [
      "Returns        0.165331\n",
      "Volatility     0.164838\n",
      "XOM Weight     0.006762\n",
      "TSLA Weight    0.500511\n",
      "GOOG Weight    0.138881\n",
      "GE Weight      0.352433\n",
      "WMT Weight     0.001414\n",
      "Sharpe         1.002991\n",
      "Name: 14557, dtype: float64\n"
     ]
    }
   ],
   "source": [
    "print(highest_sharpe_df)"
   ]
  },
  {
   "cell_type": "code",
   "execution_count": null,
   "metadata": {
    "collapsed": true
   },
   "outputs": [],
   "source": []
  }
 ],
 "metadata": {
  "kernelspec": {
   "display_name": "Python 3",
   "language": "python",
   "name": "python3"
  },
  "language_info": {
   "codemirror_mode": {
    "name": "ipython",
    "version": 3
   },
   "file_extension": ".py",
   "mimetype": "text/x-python",
   "name": "python",
   "nbconvert_exporter": "python",
   "pygments_lexer": "ipython3",
   "version": "3.6.3"
  }
 },
 "nbformat": 4,
 "nbformat_minor": 2
}
